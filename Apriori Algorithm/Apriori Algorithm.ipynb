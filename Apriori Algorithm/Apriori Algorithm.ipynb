{
 "cells": [
  {
   "cell_type": "markdown",
   "metadata": {},
   "source": [
    "## Data obtained from https://www.kaggle.com/heeraldedhia/groceries-dataset"
   ]
  },
  {
   "cell_type": "code",
   "execution_count": null,
   "metadata": {},
   "outputs": [],
   "source": [
    "import numpy as np\n",
    "import matplotlib.pyplot as plt\n",
    "import pandas as pd\n",
    "from apyori import apriori"
   ]
  },
  {
   "cell_type": "code",
   "execution_count": null,
   "metadata": {},
   "outputs": [],
   "source": [
    "store_data = pd.read_csv(r'D:\\DATA_BASE\\groceries_dataset_relational_data\\Groceries_dataset.csv')"
   ]
  },
  {
   "cell_type": "code",
   "execution_count": 3,
   "metadata": {},
   "outputs": [
    {
     "data": {
      "text/html": [
       "<div>\n",
       "<style scoped>\n",
       "    .dataframe tbody tr th:only-of-type {\n",
       "        vertical-align: middle;\n",
       "    }\n",
       "\n",
       "    .dataframe tbody tr th {\n",
       "        vertical-align: top;\n",
       "    }\n",
       "\n",
       "    .dataframe thead th {\n",
       "        text-align: right;\n",
       "    }\n",
       "</style>\n",
       "<table border=\"1\" class=\"dataframe\">\n",
       "  <thead>\n",
       "    <tr style=\"text-align: right;\">\n",
       "      <th></th>\n",
       "      <th>Member_number</th>\n",
       "    </tr>\n",
       "  </thead>\n",
       "  <tbody>\n",
       "    <tr>\n",
       "      <th>count</th>\n",
       "      <td>38765.000000</td>\n",
       "    </tr>\n",
       "    <tr>\n",
       "      <th>mean</th>\n",
       "      <td>3003.641868</td>\n",
       "    </tr>\n",
       "    <tr>\n",
       "      <th>std</th>\n",
       "      <td>1153.611031</td>\n",
       "    </tr>\n",
       "    <tr>\n",
       "      <th>min</th>\n",
       "      <td>1000.000000</td>\n",
       "    </tr>\n",
       "    <tr>\n",
       "      <th>25%</th>\n",
       "      <td>2002.000000</td>\n",
       "    </tr>\n",
       "    <tr>\n",
       "      <th>50%</th>\n",
       "      <td>3005.000000</td>\n",
       "    </tr>\n",
       "    <tr>\n",
       "      <th>75%</th>\n",
       "      <td>4007.000000</td>\n",
       "    </tr>\n",
       "    <tr>\n",
       "      <th>max</th>\n",
       "      <td>5000.000000</td>\n",
       "    </tr>\n",
       "  </tbody>\n",
       "</table>\n",
       "</div>"
      ],
      "text/plain": [
       "       Member_number\n",
       "count   38765.000000\n",
       "mean     3003.641868\n",
       "std      1153.611031\n",
       "min      1000.000000\n",
       "25%      2002.000000\n",
       "50%      3005.000000\n",
       "75%      4007.000000\n",
       "max      5000.000000"
      ]
     },
     "execution_count": 3,
     "metadata": {},
     "output_type": "execute_result"
    }
   ],
   "source": [
    "store_data.describe()"
   ]
  },
  {
   "cell_type": "code",
   "execution_count": 4,
   "metadata": {},
   "outputs": [
    {
     "data": {
      "text/html": [
       "<div>\n",
       "<style scoped>\n",
       "    .dataframe tbody tr th:only-of-type {\n",
       "        vertical-align: middle;\n",
       "    }\n",
       "\n",
       "    .dataframe tbody tr th {\n",
       "        vertical-align: top;\n",
       "    }\n",
       "\n",
       "    .dataframe thead th {\n",
       "        text-align: right;\n",
       "    }\n",
       "</style>\n",
       "<table border=\"1\" class=\"dataframe\">\n",
       "  <thead>\n",
       "    <tr style=\"text-align: right;\">\n",
       "      <th></th>\n",
       "      <th>Member_number</th>\n",
       "      <th>Date</th>\n",
       "      <th>itemDescription</th>\n",
       "    </tr>\n",
       "  </thead>\n",
       "  <tbody>\n",
       "    <tr>\n",
       "      <th>0</th>\n",
       "      <td>1808</td>\n",
       "      <td>21-07-2015</td>\n",
       "      <td>tropical fruit</td>\n",
       "    </tr>\n",
       "    <tr>\n",
       "      <th>1</th>\n",
       "      <td>2552</td>\n",
       "      <td>05-01-2015</td>\n",
       "      <td>whole milk</td>\n",
       "    </tr>\n",
       "    <tr>\n",
       "      <th>2</th>\n",
       "      <td>2300</td>\n",
       "      <td>19-09-2015</td>\n",
       "      <td>pip fruit</td>\n",
       "    </tr>\n",
       "    <tr>\n",
       "      <th>3</th>\n",
       "      <td>1187</td>\n",
       "      <td>12-12-2015</td>\n",
       "      <td>other vegetables</td>\n",
       "    </tr>\n",
       "    <tr>\n",
       "      <th>4</th>\n",
       "      <td>3037</td>\n",
       "      <td>01-02-2015</td>\n",
       "      <td>whole milk</td>\n",
       "    </tr>\n",
       "  </tbody>\n",
       "</table>\n",
       "</div>"
      ],
      "text/plain": [
       "   Member_number        Date   itemDescription\n",
       "0           1808  21-07-2015    tropical fruit\n",
       "1           2552  05-01-2015        whole milk\n",
       "2           2300  19-09-2015         pip fruit\n",
       "3           1187  12-12-2015  other vegetables\n",
       "4           3037  01-02-2015        whole milk"
      ]
     },
     "execution_count": 4,
     "metadata": {},
     "output_type": "execute_result"
    }
   ],
   "source": [
    "store_data.head()"
   ]
  },
  {
   "cell_type": "code",
   "execution_count": 5,
   "metadata": {},
   "outputs": [
    {
     "name": "stdout",
     "output_type": "stream",
     "text": [
      "180821-07-2015 ['tropical fruit', 'rolls/buns', 'candy']\n",
      "255205-01-2015 ['whole milk', 'tropical fruit', 'chocolate']\n",
      "230019-09-2015 ['pip fruit', 'other vegetables', 'flour']\n",
      "118712-12-2015 ['other vegetables', 'onions', 'shopping bags']\n",
      "303701-02-2015 ['whole milk', 'other vegetables', 'white bread']\n",
      "494114-02-2015 ['rolls/buns', 'citrus fruit', 'fruit/vegetable juice']\n",
      "450108-05-2015 ['other vegetables', 'bottled water', 'shopping bags']\n",
      "380323-12-2015 ['pot plants', 'citrus fruit', 'whipped/sour cream']\n",
      "276220-03-2015 ['whole milk', 'specialty bar', 'newspapers']\n",
      "411912-02-2015 ['tropical fruit', 'citrus fruit', 'soda']\n",
      "134024-02-2015 ['citrus fruit', 'rolls/buns', 'pastry']\n"
     ]
    }
   ],
   "source": [
    "dictionary = {}\n",
    "for index, row in store_data.iterrows():\n",
    "    key = str(row['Member_number']) + str(row['Date'])\n",
    "    if key not in dictionary.keys():\n",
    "        dictionary[key] = []\n",
    "        dictionary[key].append(row['itemDescription'])\n",
    "    elif key in dictionary.keys():\n",
    "        dictionary[key].append(row['itemDescription'])\n",
    "\n",
    "count = 0\n",
    "for key in dictionary.keys():\n",
    "    print(key, dictionary[key])\n",
    "    if count >= 10:\n",
    "        break\n",
    "    count += 1"
   ]
  },
  {
   "cell_type": "code",
   "execution_count": 6,
   "metadata": {},
   "outputs": [
    {
     "data": {
      "text/plain": [
       "[['tropical fruit', 'rolls/buns', 'candy'],\n",
       " ['whole milk', 'tropical fruit', 'chocolate'],\n",
       " ['pip fruit', 'other vegetables', 'flour'],\n",
       " ['other vegetables', 'onions', 'shopping bags'],\n",
       " ['whole milk', 'other vegetables', 'white bread'],\n",
       " ['rolls/buns', 'citrus fruit', 'fruit/vegetable juice'],\n",
       " ['other vegetables', 'bottled water', 'shopping bags'],\n",
       " ['pot plants', 'citrus fruit', 'whipped/sour cream'],\n",
       " ['whole milk', 'specialty bar', 'newspapers'],\n",
       " ['tropical fruit', 'citrus fruit', 'soda']]"
      ]
     },
     "execution_count": 6,
     "metadata": {},
     "output_type": "execute_result"
    }
   ],
   "source": [
    "records = []\n",
    "for key in dictionary.keys():\n",
    "    records.append(dictionary[key])\n",
    "    \n",
    "records[:10]"
   ]
  },
  {
   "cell_type": "code",
   "execution_count": 7,
   "metadata": {},
   "outputs": [],
   "source": [
    "association_rules = apriori(records, min_support=0.0005, min_confidence=0.1, min_lift=2, min_length=2)\n",
    "association_results = list(association_rules)"
   ]
  },
  {
   "cell_type": "code",
   "execution_count": 8,
   "metadata": {},
   "outputs": [
    {
     "name": "stdout",
     "output_type": "stream",
     "text": [
      "9\n"
     ]
    }
   ],
   "source": [
    "print(len(association_results))"
   ]
  },
  {
   "cell_type": "code",
   "execution_count": 9,
   "metadata": {},
   "outputs": [
    {
     "name": "stdout",
     "output_type": "stream",
     "text": [
      "RelationRecord(items=frozenset({'whole milk', 'brandy'}), support=0.0008688097306689834, ordered_statistics=[OrderedStatistic(items_base=frozenset({'brandy'}), items_add=frozenset({'whole milk'}), confidence=0.34210526315789475, lift=2.1662805978127717)])\n"
     ]
    }
   ],
   "source": [
    "print(association_results[0])"
   ]
  },
  {
   "cell_type": "code",
   "execution_count": 10,
   "metadata": {},
   "outputs": [
    {
     "name": "stdout",
     "output_type": "stream",
     "text": [
      "Rule: whole milk -> brandy\n",
      "Support: 0.0008688097306689834\n",
      "Confidence: 0.34210526315789475\n",
      "Lift: 2.1662805978127717\n",
      "=====================================\n",
      "Rule: pip fruit -> sweet spreads\n",
      "Support: 0.0005346521419501437\n",
      "Confidence: 0.11764705882352942\n",
      "Lift: 2.398301009777208\n",
      "=====================================\n",
      "Rule: soda -> spices\n",
      "Support: 0.0006014836596939117\n",
      "Confidence: 0.225\n",
      "Lift: 2.317050929112182\n",
      "=====================================\n",
      "Rule: tropical fruit -> sweet spreads\n",
      "Support: 0.0007351466951814476\n",
      "Confidence: 0.16176470588235295\n",
      "Lift: 2.387066365007542\n",
      "=====================================\n",
      "Rule: other vegetables -> sausage\n",
      "Support: 0.0005346521419501437\n",
      "Confidence: 0.2758620689655173\n",
      "Lift: 2.259290715890003\n",
      "=====================================\n",
      "Rule: soda -> sausage\n",
      "Support: 0.0005346521419501437\n",
      "Confidence: 0.13114754098360656\n",
      "Lift: 2.1731568723562624\n",
      "=====================================\n",
      "Rule: sausage -> pork\n",
      "Support: 0.0006014836596939117\n",
      "Confidence: 0.391304347826087\n",
      "Lift: 2.4778192791035716\n",
      "=====================================\n",
      "Rule: whipped/sour cream -> yogurt\n",
      "Support: 0.0006014836596939117\n",
      "Confidence: 0.20454545454545456\n",
      "Lift: 2.3818004952246197\n",
      "=====================================\n",
      "Rule: yogurt -> sausage\n",
      "Support: 0.0014702933903628951\n",
      "Confidence: 0.1317365269461078\n",
      "Lift: 2.1829165589087607\n",
      "=====================================\n"
     ]
    }
   ],
   "source": [
    "for item in association_results:\n",
    "\n",
    "    # first index of the inner list\n",
    "    # Contains base item and add item\n",
    "    pair = item[0] \n",
    "    items = [x for x in pair]\n",
    "    print(\"Rule: \" + items[0] + \" -> \" + items[1])\n",
    "\n",
    "    #second index of the inner list\n",
    "    print(\"Support: \" + str(item[1]))\n",
    "\n",
    "    #third index of the list located at 0th\n",
    "    #of the third index of the inner list\n",
    "\n",
    "    print(\"Confidence: \" + str(item[2][0][2]))\n",
    "    print(\"Lift: \" + str(item[2][0][3]))\n",
    "    print(\"=====================================\")"
   ]
  },
  {
   "cell_type": "code",
   "execution_count": null,
   "metadata": {},
   "outputs": [],
   "source": []
  }
 ],
 "metadata": {
  "kernelspec": {
   "display_name": "deepLearning",
   "language": "python",
   "name": "deeplearning"
  },
  "language_info": {
   "codemirror_mode": {
    "name": "ipython",
    "version": 3
   },
   "file_extension": ".py",
   "mimetype": "text/x-python",
   "name": "python",
   "nbconvert_exporter": "python",
   "pygments_lexer": "ipython3",
   "version": "3.7.7"
  }
 },
 "nbformat": 4,
 "nbformat_minor": 4
}
